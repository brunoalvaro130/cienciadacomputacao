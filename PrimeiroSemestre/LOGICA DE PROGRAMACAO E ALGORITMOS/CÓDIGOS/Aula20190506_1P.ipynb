{
  "nbformat": 4,
  "nbformat_minor": 0,
  "metadata": {
    "colab": {
      "name": "Aula20190506_1P.ipynb",
      "version": "0.3.2",
      "provenance": [],
      "collapsed_sections": []
    },
    "kernelspec": {
      "name": "python3",
      "display_name": "Python 3"
    }
  },
  "cells": [
    {
      "cell_type": "code",
      "metadata": {
        "id": "TnUYFF0jqv4I",
        "colab_type": "code",
        "outputId": "386ecd53-e2a0-43a7-8dd0-f901406291cd",
        "colab": {
          "base_uri": "https://localhost:8080/",
          "height": 34
        }
      },
      "source": [
        "# listas  []\n",
        "# triplas ()\n",
        "# dicionario {}\n",
        "\n",
        "#------------------------------------#\n",
        "\n",
        "lst1 = ['vodka','breja','tequila','bombeirinho','farmacia']\n",
        "lst2 = [1,2,3,4,5,6,7,8,9,0]\n",
        "lst3 = ['a','b','c','d']\n",
        "\n",
        "lst_t = [lst1, lst2, lst3]\n",
        "\n",
        "#print(lst1[0])\n",
        "#print(lst2[0])\n",
        "#print(lst3[0])\n",
        "\n",
        "print(lst_t[0][-1],lst_t[1][0],lst_t[2][3])"
      ],
      "execution_count": 0,
      "outputs": [
        {
          "output_type": "stream",
          "text": [
            "farmacia 1 d\n"
          ],
          "name": "stdout"
        }
      ]
    },
    {
      "cell_type": "code",
      "metadata": {
        "id": "aO-SrHQkstav",
        "colab_type": "code",
        "outputId": "2297996c-bf0a-4655-a133-ce34f6b27e27",
        "colab": {
          "base_uri": "https://localhost:8080/",
          "height": 68
        }
      },
      "source": [
        "lst = []\n",
        "lst.append(1)\n",
        "lst.append('Joao')\n",
        "print(lst)\n",
        "print(len(lst))\n",
        "lst.append('Maria')\n",
        "print(len(lst))"
      ],
      "execution_count": 0,
      "outputs": [
        {
          "output_type": "stream",
          "text": [
            "[1, 'joao']\n",
            "2\n",
            "3\n"
          ],
          "name": "stdout"
        }
      ]
    },
    {
      "cell_type": "code",
      "metadata": {
        "id": "gHpQmcJitSjI",
        "colab_type": "code",
        "colab": {}
      },
      "source": [
        "import numpy as np\n",
        "\n",
        "lst = list(np.arange(0.0,100,0.001))\n",
        "#print(len(lst))\n",
        "#print(lst)\n",
        "for i in lst:\n",
        "  print(i) #favor nao executar essa linha"
      ],
      "execution_count": 0,
      "outputs": []
    },
    {
      "cell_type": "code",
      "metadata": {
        "id": "gc3MYYcJv-3f",
        "colab_type": "code",
        "outputId": "fac89270-0ee8-4076-9b86-c8f471cdb163",
        "colab": {
          "base_uri": "https://localhost:8080/",
          "height": 68
        }
      },
      "source": [
        "lst_b = ['vodka','breja','tequila','bombeirinho','farmacia']\n",
        "lst_b.append('Conhaque')\n",
        "print(lst_b)\n",
        "del lst_b[3]\n",
        "print(lst_b)\n",
        "\n",
        "#atualizar uma posicao\n",
        "#lst_b[-1] = 'Pinga'\n",
        "#print(lst_b[-1])\n",
        "#print(lst_b)\n",
        "\n",
        "#---\n",
        "copo = lst_b[-1]\n",
        "#print(copo)\n",
        "lst_b[-1] = 'Pinga'\n",
        "lst_b.append(copo)\n",
        "print(lst_b)"
      ],
      "execution_count": 0,
      "outputs": [
        {
          "output_type": "stream",
          "text": [
            "['vodka', 'breja', 'tequila', 'bombeirinho', 'farmacia', 'Conhaque']\n",
            "['vodka', 'breja', 'tequila', 'farmacia', 'Conhaque']\n",
            "['vodka', 'breja', 'tequila', 'farmacia', 'Pinga', 'Conhaque']\n"
          ],
          "name": "stdout"
        }
      ]
    }
  ]
}