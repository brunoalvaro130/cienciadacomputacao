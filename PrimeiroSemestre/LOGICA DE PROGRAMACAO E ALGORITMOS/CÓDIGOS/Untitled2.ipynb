{
  "nbformat": 4,
  "nbformat_minor": 0,
  "metadata": {
    "colab": {
      "name": "Untitled2.ipynb",
      "version": "0.3.2",
      "provenance": [],
      "collapsed_sections": []
    },
    "kernelspec": {
      "name": "python3",
      "display_name": "Python 3"
    }
  },
  "cells": [
    {
      "cell_type": "code",
      "metadata": {
        "id": "HaffTIYLnWNe",
        "colab_type": "code",
        "outputId": "d0ac3d5d-372a-429f-ea4d-f26767ecf0d8",
        "colab": {
          "base_uri": "https://localhost:8080/",
          "height": 204
        }
      },
      "source": [
        "# exemplo 01\n",
        "qtd = 10\n",
        "\n",
        "for i in range(qtd,0,-1):\n",
        "  print(i)\n",
        "  \n",
        "print('sai do loop')"
      ],
      "execution_count": 0,
      "outputs": [
        {
          "output_type": "stream",
          "text": [
            "10\n",
            "9\n",
            "8\n",
            "7\n",
            "6\n",
            "5\n",
            "4\n",
            "3\n",
            "2\n",
            "1\n",
            "sai do loop\n"
          ],
          "name": "stdout"
        }
      ]
    },
    {
      "cell_type": "code",
      "metadata": {
        "id": "rHltD5d0rQKe",
        "colab_type": "code",
        "colab": {}
      },
      "source": [
        "qtd = 10\n",
        "\n",
        "while qtd > 0:\n",
        "  qtd = qtd - 1\n",
        "  print(qtd)\n",
        "  if qtd == 0:\n",
        "    break\n",
        "    \n",
        "print('sai do loop')    "
      ],
      "execution_count": 0,
      "outputs": []
    },
    {
      "cell_type": "code",
      "metadata": {
        "id": "AUecykWBtv6c",
        "colab_type": "code",
        "colab": {}
      },
      "source": [
        "# exemplo de lista\n",
        "lst_a = []\n",
        "lst_b = [1, 2, 3,'casa', True, False, 1.25]\n",
        "\n",
        "print(lst_b)\n",
        "print(lst_b[3])\n",
        "print(len(lst_b))\n",
        "\n",
        "\n",
        "print(lst_b[len(lst_b)-1])\n",
        "print(lst_b[-1])"
      ],
      "execution_count": 0,
      "outputs": []
    }
  ]
}