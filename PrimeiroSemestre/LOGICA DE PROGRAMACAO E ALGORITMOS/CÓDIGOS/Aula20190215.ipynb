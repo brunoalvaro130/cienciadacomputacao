{
  "nbformat": 4,
  "nbformat_minor": 0,
  "metadata": {
    "colab": {
      "name": "Aula20190215.ipynb",
      "version": "0.3.2",
      "provenance": []
    },
    "kernelspec": {
      "name": "python3",
      "display_name": "Python 3"
    }
  },
  "cells": [
    {
      "cell_type": "code",
      "metadata": {
        "id": "MJhb3st-r60q",
        "colab_type": "code",
        "outputId": "12eced69-3d96-44a5-a32f-96319565ff17",
        "colab": {
          "base_uri": "https://localhost:8080/",
          "height": 74
        }
      },
      "source": [
        "#Codigo da Aula 2019-02-15\n",
        "#Curso de Ciencia da Computacao 1o Periodo de 2019\n",
        "\n",
        "#cria uma variavel do tipo string\n",
        "nome = \"CraudyonoR\"\n",
        "\n",
        "#cria as variaveis booleanas para os testes logicos\n",
        "sera_que_pergunto = True\n",
        "shipo = False\n",
        "\n",
        "# aqui vou testar minha coragem\n",
        "if sera_que_pergunto:\n",
        "  \n",
        "  nome     = input(\"Qual eh seu nome \")\n",
        "  \n",
        "  #aqui teste o clima\n",
        "  if shipo:\n",
        "    print(nome)\n",
        "  else:\n",
        "    print(\"deu mal\")\n",
        "    \n",
        "else:\n",
        "  \n",
        "  print(\"moio o encontro\")\n",
        "  \n",
        "  \n",
        "print(\"..| fim da aplicacao\")  "
      ],
      "execution_count": 0,
      "outputs": [
        {
          "output_type": "stream",
          "text": [
            "Qual eh seu nome Diocrego\n",
            "deu mal\n",
            "..| fim da aplicação\n"
          ],
          "name": "stdout"
        }
      ]
    }
  ]
}