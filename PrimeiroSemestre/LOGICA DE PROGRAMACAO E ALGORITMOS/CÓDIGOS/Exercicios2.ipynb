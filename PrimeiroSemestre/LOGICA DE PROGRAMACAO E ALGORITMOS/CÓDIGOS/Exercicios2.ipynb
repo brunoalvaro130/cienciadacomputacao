{
  "nbformat": 4,
  "nbformat_minor": 0,
  "metadata": {
    "colab": {
      "name": "Exercicios2",
      "version": "0.3.2",
      "provenance": [],
      "collapsed_sections": []
    },
    "kernelspec": {
      "name": "python3",
      "display_name": "Python 3"
    }
  },
  "cells": [
    {
      "cell_type": "code",
      "metadata": {
        "id": "D3UY0dT9fzeS",
        "colab_type": "code",
        "colab": {}
      },
      "source": [
        "#P01 Meu codigo\n",
        "qtd = 0\n",
        "\n",
        "for i in range (qtd,30,2):\n",
        "  print(i)\n",
        "  qtd += i\n",
        "\n",
        "  \n",
        "print('total da soma{}'.format(qtd))"
      ],
      "execution_count": 0,
      "outputs": []
    },
    {
      "cell_type": "code",
      "metadata": {
        "id": "oOoTIU_HeZlJ",
        "colab_type": "code",
        "colab": {}
      },
      "source": [
        "#P01\n",
        "qtd = 30\n",
        "soma = 0\n",
        "\n",
        "for i in range(0,qtd,2):\n",
        "  soma += i # soma = soma + i\n",
        "  \n",
        "print(soma)\n",
        "  "
      ],
      "execution_count": 0,
      "outputs": []
    },
    {
      "cell_type": "code",
      "metadata": {
        "id": "eHu9qxVJfa5I",
        "colab_type": "code",
        "colab": {}
      },
      "source": [
        "#P02\n",
        "lista = []\n",
        "\n",
        "while True:\n",
        "  nome = input('informe o nome..:')\n",
        "  if nome.upper() == 'FIM':\n",
        "      break\n",
        "  \n",
        "  lista.append(nome)\n",
        "\n",
        "  \n",
        "print('Foram informados {} nome(s)'. format(len(lista)))\n",
        "\n",
        "for n in lista:\n",
        "  print('Nome informado {} com {} letra(s)'.format(n,len(n)))\n",
        "  \n",
        "  \n",
        "print('fim da aplicação')"
      ],
      "execution_count": 0,
      "outputs": []
    }
  ]
}