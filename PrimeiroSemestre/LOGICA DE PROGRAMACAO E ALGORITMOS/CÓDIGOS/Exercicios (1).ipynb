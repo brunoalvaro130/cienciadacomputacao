{
  "nbformat": 4,
  "nbformat_minor": 0,
  "metadata": {
    "colab": {
      "name": "Exercicios",
      "version": "0.3.2",
      "provenance": [],
      "collapsed_sections": []
    },
    "kernelspec": {
      "name": "python3",
      "display_name": "Python 3"
    }
  },
  "cells": [
    {
      "cell_type": "code",
      "metadata": {
        "id": "NYuDI2AEPMEw",
        "colab_type": "code",
        "colab": {}
      },
      "source": [
        "#TODO 01. faça a conversão do valor de entrada para o tipo de dado inteiro\n",
        "valor = int(input('informe o valor..: '))\n",
        "\n",
        "# TODO 02. Verifique se o valor é menor igual que 80\n",
        "if valor <= 80:\n",
        "    print('o valor informado eh menor ou igual que 80')\n",
        "else:\n",
        "    print('o valor informado eh maior que 80')\n",
        "    \n",
        "print('thats all folks..: ')\n",
        " \n",
        "  "
      ],
      "execution_count": 0,
      "outputs": []
    },
    {
      "cell_type": "code",
      "metadata": {
        "id": "2ggInTyHVFk1",
        "colab_type": "code",
        "outputId": "69d8b09f-c5e9-4157-cdc1-fa2f84942749",
        "colab": {
          "base_uri": "https://localhost:8080/",
          "height": 221
        }
      },
      "source": [
        "#TODO 01.Faça a conversão do valor de entrada para o tipo inteiro\n",
        "val_inicio = int(input('informe valor de inicio.....: '))\n",
        "\n",
        "#TODO 02. Faça a conversão do valor de entrada para o tipo inteiro\n",
        "val_fim = int(input('informe o valor de termino..: '))\n",
        "\n",
        "operacao = input('informe operação a ser executada Adição ou Subtração..: ')\n",
        "\n",
        "#TODO 03. Faça a conversão do valor de entrada para o tipo inteiro\n",
        "passo = int(input('informe valor do passo'))\n",
        "\n",
        "while True:\n",
        "  if operacao == 'A':\n",
        "    val_inicio = val_inicio + passo\n",
        "    print(val_inicio)\n",
        "    \n",
        "  elif operacao == 'S':\n",
        "    val_inicio = val_inicio - passo\n",
        "    print(val_inicio)\n",
        "    \n",
        "  else:\n",
        "    print ('Operação informada não existe') \n",
        "    break\n",
        "  \n",
        "    \n",
        "  if val_inicio == val_fim:\n",
        "    print('fim do procedimento..:')\n",
        "    break\n",
        "  \n",
        "  \n",
        "print('Job concluido com sucesso!')\n",
        "  "
      ],
      "execution_count": 0,
      "outputs": [
        {
          "output_type": "stream",
          "text": [
            "informe valor de inicio.....: 2\n",
            "informe o valor de termino..: 8\n",
            "informe operação a ser executada Adição ou Subtração..: A\n",
            "informe valor do passo1\n",
            "3\n",
            "4\n",
            "5\n",
            "6\n",
            "7\n",
            "8\n",
            "fim do procedimento..:\n",
            "Job concluido com sucesso!\n"
          ],
          "name": "stdout"
        }
      ]
    }
  ]
}