{
  "nbformat": 4,
  "nbformat_minor": 0,
  "metadata": {
    "colab": {
      "name": "Untitled5.ipynb",
      "version": "0.3.2",
      "provenance": []
    },
    "kernelspec": {
      "name": "python3",
      "display_name": "Python 3"
    }
  },
  "cells": [
    {
      "cell_type": "code",
      "metadata": {
        "id": "i6KPFcxKoLTG",
        "colab_type": "code",
        "colab": {}
      },
      "source": [
        "def mensagem_ola():\n",
        "  print('Ola mundo')\n",
        "  print('Tudo bem com voce')\n",
        "  \n",
        "\n",
        "def avalia_idade():\n",
        "  idade = int(input('qual a sua idade'))\n",
        "  if idade > 18:\n",
        "    print('voce tem mais de 18')\n",
        "  else:\n",
        "    print('voce nao tem mais de 18')\n",
        "  \n",
        "  \n",
        "  \n",
        "mensagem_ola()\n",
        "avalia_idade()"
      ],
      "execution_count": 0,
      "outputs": []
    },
    {
      "cell_type": "code",
      "metadata": {
        "id": "5lWvR_3HqL0u",
        "colab_type": "code",
        "outputId": "ca20c2b4-5828-407f-95fd-b7cf4ae3f6f9",
        "colab": {
          "base_uri": "https://localhost:8080/",
          "height": 85
        }
      },
      "source": [
        "def saudacao(nome):\n",
        "  print('ola',nome)\n",
        "\n",
        "\n",
        "saudacao('Ze Maria')\n",
        "saudacao('Maria')\n",
        "saudacao('joaquim')\n",
        "saudacao('Terezona')"
      ],
      "execution_count": 0,
      "outputs": [
        {
          "output_type": "stream",
          "text": [
            "ola Ze Maria\n",
            "ola Maria\n",
            "ola joaquim\n",
            "ola Terezona\n"
          ],
          "name": "stdout"
        }
      ]
    },
    {
      "cell_type": "code",
      "metadata": {
        "id": "FesM8iSgrSKc",
        "colab_type": "code",
        "outputId": "84d1c1e8-8ff4-4098-b6df-951a04db9778",
        "colab": {
          "base_uri": "https://localhost:8080/",
          "height": 303
        }
      },
      "source": [
        "import numpy as np\n",
        "import matplotlib.pyplot as plt\n",
        "\n",
        "def f01(x):\n",
        "  return -((2*x)-1)\n",
        "\n",
        "\n",
        "def f02(x):\n",
        "  return (2*x)+1\n",
        "\n",
        "def f00(x):\n",
        "  if x <= -2:\n",
        "    return f01(x)\n",
        "  if -2 < x and x < 1:\n",
        "    return 3\n",
        "  if 1 <= x:\n",
        "    return f02(x)\n",
        "\n",
        "  \n",
        "x = np.arange(-10.,10.,0.001)\n",
        "y = []\n",
        "for v in x:\n",
        "  y.append(f00(v))\n",
        "  \n",
        "f, c = plt.subplots()\n",
        "c.plot(x, y)\n",
        "\n",
        "  \n",
        "  \n",
        "print(len(x))\n",
        "print(len(y))"
      ],
      "execution_count": 0,
      "outputs": [
        {
          "output_type": "stream",
          "text": [
            "20000\n",
            "20000\n"
          ],
          "name": "stdout"
        },
        {
          "output_type": "display_data",
          "data": {
            "image/png": "[encoded data removed]",
            "text/plain": [
              "<Figure size 432x288 with 1 Axes>"
            ]
          },
          "metadata": {
            "tags": []
          }
        }
      ]
    }
  ]
}