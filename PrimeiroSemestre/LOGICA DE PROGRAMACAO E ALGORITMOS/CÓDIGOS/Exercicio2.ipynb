{
  "nbformat": 4,
  "nbformat_minor": 0,
  "metadata": {
    "colab": {
      "name": "Exercicio2",
      "version": "0.3.2",
      "provenance": [],
      "collapsed_sections": []
    },
    "kernelspec": {
      "name": "python3",
      "display_name": "Python 3"
    }
  },
  "cells": [
    {
      "cell_type": "code",
      "metadata": {
        "id": "IQ5p-mE3g9r5",
        "colab_type": "code",
        "outputId": "cd97aab1-c2db-4396-ef21-20d075c6a3b0",
        "colab": {
          "base_uri": "https://localhost:8080/",
          "height": 189
        }
      },
      "source": [
        "c = 0\n",
        "qtd = int(input('informe a quantidade'))\n",
        " \n",
        "\n",
        "while True:    \n",
        "  if qtd == 0:\n",
        "    print('fim sem embalar')\n",
        "    break\n",
        "\n",
        "  elif qtd < 100:\n",
        "    qtd = int(input('informe a quantidade'))\n",
        "    \n",
        "  else:\n",
        "    while True:\n",
        "      qtd = qtd - 10\n",
        "      c = c + 1 \n",
        "      if qtd < 10:\n",
        "        print('qtd=0')\n",
        "        print('pacotes criados', c)\n",
        "        print('quantidade que sobrou', qtd)\n",
        "        break \n",
        "    break\n",
        "  \n",
        "  \n",
        "  \n",
        "print('thats all folks..')\n",
        "    \n",
        "    "
      ],
      "execution_count": 0,
      "outputs": [
        {
          "output_type": "stream",
          "text": [
            "informe a quantidade90\n",
            "informe a quantidade90\n",
            "informe a quantidade90\n",
            "informe a quantidade90\n",
            "informe a quantidade90\n",
            "informe a quantidade90\n",
            "informe a quantidade90\n",
            "informe a quantidade90\n"
          ],
          "name": "stdout"
        }
      ]
    }
  ]
}