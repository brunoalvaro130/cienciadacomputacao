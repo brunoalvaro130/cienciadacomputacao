{
  "nbformat": 4,
  "nbformat_minor": 0,
  "metadata": {
    "colab": {
      "name": "Exercicio240519.ipynb",
      "version": "0.3.2",
      "provenance": [],
      "collapsed_sections": []
    },
    "kernelspec": {
      "name": "python3",
      "display_name": "Python 3"
    }
  },
  "cells": [
    {
      "cell_type": "code",
      "metadata": {
        "id": "CdMDX-Kv5iq9",
        "colab_type": "code",
        "colab": {}
      },
      "source": [
        "nome1 = []\n",
        "salario1 = []\n",
        "taxa1 = []\n",
        "\n",
        "\n",
        "\n",
        "while True:\n",
        "  nome2 = str(input(\"informe o nome..:\"))  \n",
        "  if nome2.upper() == 'FIM':     \n",
        "    print(nome1,salario1,taxa1)\n",
        "    break\n",
        "\n",
        "  salario2 = int(input(\"informe salario..:\"))\n",
        "\n",
        "  nome1.append(nome2)\n",
        "  salario1.append(salario2)\n",
        " \n",
        "  if salario2 <= 1000:\n",
        "    taxa2 = 0\n",
        "    taxa1.append(taxa2)\n",
        "    \n",
        "\n",
        "  elif 1000 < salario2 and salario2 <= 3000:\n",
        "      taxa2 = salario2 * 0.15\n",
        "      taxa1.append(taxa2)\n",
        "    \n",
        "\n",
        "  else:\n",
        "      taxa2 = salario2 * 0.20\n",
        "      taxa1.append(taxa2)\n",
        "      \n",
        "    \n",
        "print(\"thats all folks...|\")  "
      ],
      "execution_count": 0,
      "outputs": []
    },
    {
      "cell_type": "code",
      "metadata": {
        "id": "7wggjpYjxDv4",
        "colab_type": "code",
        "colab": {}
      },
      "source": [
        "# resolução do fluxo acima\n",
        "# -------\n",
        "# criar as variaveis globais\n",
        "nome = []\n",
        "salario = []\n",
        "taxa = []\n",
        "\n",
        "#funcao para printar relatorio\n",
        "def printa_valores():\n",
        "  for p, n in enumerate(nome):\n",
        "    print(\"{} - {} - {}\".format(n, salario[p], taxa[p]))\n",
        "  print('......')\n",
        "  \n",
        "# criar a funcao calcula_taxa\n",
        "def calcula_taxa(salario):\n",
        "  if salario <= 1000:\n",
        "    return 0\n",
        "  elif salario > 1000 and salario <= 3000:\n",
        "    return salario * 0.15\n",
        "  else:\n",
        "    return salario * 0.20\n",
        "\n",
        "# executa o laco de repeticao\n",
        "while True:\n",
        "  v_nome = input('informe nome...:')\n",
        "  if v_nome.upper() == 'FIM':\n",
        "      break\n",
        "  v_salario = float(input('Informe salario..:'))\n",
        "  nome.append(v_nome)\n",
        "  salario.append(v_salario)\n",
        "  taxa.append(calcula_taxa(v_salario))\n",
        "  \n",
        "printa_valores()\n",
        "  \n",
        "print('..| fim da aplicacao')"
      ],
      "execution_count": 0,
      "outputs": []
    }
  ]
}