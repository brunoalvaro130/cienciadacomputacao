{
  "nbformat": 4,
  "nbformat_minor": 0,
  "metadata": {
    "colab": {
      "name": "aula20190308",
      "version": "0.3.2",
      "provenance": [],
      "collapsed_sections": []
    },
    "kernelspec": {
      "name": "python3",
      "display_name": "Python 3"
    }
  },
  "cells": [
    {
      "cell_type": "code",
      "metadata": {
        "id": "f0fYJQ7zV5aj",
        "colab_type": "code",
        "outputId": "98de4d49-6d9d-47d8-9cb7-f99e7bd87b32",
        "colab": {
          "base_uri": "https://localhost:8080/",
          "height": 102
        }
      },
      "source": [
        "for v in  range(5):\n",
        "  print(v)"
      ],
      "execution_count": 0,
      "outputs": [
        {
          "output_type": "stream",
          "text": [
            "0\n",
            "1\n",
            "2\n",
            "3\n",
            "4\n"
          ],
          "name": "stdout"
        }
      ]
    },
    {
      "cell_type": "code",
      "metadata": {
        "id": "IoaTMx9yTfJf",
        "colab_type": "code",
        "colab": {}
      },
      "source": [
        ""
      ],
      "execution_count": 0,
      "outputs": []
    },
    {
      "cell_type": "code",
      "metadata": {
        "id": "mhpF57OcaJLk",
        "colab_type": "code",
        "outputId": "5af92e24-18a7-4234-a93a-f7f0a1b0d552",
        "colab": {
          "base_uri": "https://localhost:8080/",
          "height": 102
        }
      },
      "source": [
        "val = 0\n",
        "while val < 5:\n",
        "  print(val)\n",
        "  val = val + 1\n",
        "  #if val == 5:\n",
        "  #  break"
      ],
      "execution_count": 0,
      "outputs": [
        {
          "output_type": "stream",
          "text": [
            "0\n",
            "1\n",
            "2\n",
            "3\n",
            "4\n"
          ],
          "name": "stdout"
        }
      ]
    },
    {
      "cell_type": "code",
      "metadata": {
        "id": "vPu-mWSAbrEd",
        "colab_type": "code",
        "outputId": "2b1b7395-ec90-438a-f58e-d8dedcc47fde",
        "colab": {
          "base_uri": "https://localhost:8080/",
          "height": 255
        }
      },
      "source": [
        "# programa exemplo da aula\n",
        "# sugestao do Gabriel\n",
        "soma_dentro = 0\n",
        "#soma_fora   = 0\n",
        "qtd_passos  = 0\n",
        "\n",
        "qtd_passos = int(input('informe numero de passos'))\n",
        "\n",
        "for v in range(qtd_passos):\n",
        "  valor = int(input('informe o valor..: '))\n",
        "  if valor in range(10,20):\n",
        "    soma_dentro += 1\n",
        "  else:\n",
        "    soma_fora +=  1\n",
        "  \n",
        "print('valor total de valores dentro da faixa foi de ', __nova__varial)\n",
        "print('E a qtd de valores fora da faixa foi de '. __a_outra_variavel)\n",
        "print('fim do processamento')"
      ],
      "execution_count": 0,
      "outputs": [
        {
          "output_type": "stream",
          "text": [
            "informe numero de passos10\n",
            "informe o valor..: 12\n",
            "informe o valor..: 13\n",
            "informe o valor..: 14\n",
            "informe o valor..: 15\n",
            "informe o valor..: 16\n",
            "informe o valor..: 17\n",
            "informe o valor..: 18\n",
            "informe o valor..: 30\n",
            "informe o valor..: 22\n",
            "informe o valor..: 29\n",
            "valor total de valores dentro da faixa foi de  7\n",
            "valor total de valores fora da faixa foi de  3\n",
            "fim do processamento\n"
          ],
          "name": "stdout"
        }
      ]
    }
  ]
}