{
  "nbformat": 4,
  "nbformat_minor": 0,
  "metadata": {
    "colab": {
      "name": "Untitled0.ipynb",
      "version": "0.3.2",
      "provenance": [],
      "collapsed_sections": []
    },
    "kernelspec": {
      "name": "python3",
      "display_name": "Python 3"
    }
  },
  "cells": [
    {
      "cell_type": "code",
      "metadata": {
        "id": "GSUWRkraHnSm",
        "colab_type": "code",
        "outputId": "fd5861ac-77a2-4120-ce51-a1c857683713",
        "colab": {
          "base_uri": "https://localhost:8080/",
          "height": 51
        }
      },
      "source": [
        "a=10\n",
        "b=20\n",
        "\n",
        "if a < b:\n",
        "  print ('a maior que b')\n",
        "else:\n",
        "  print ('a nao eh maior que b')\n",
        "  \n",
        "print('..|fim da aplicação')\n",
        " \n",
        "    \n",
        "  \n",
        "  \n"
      ],
      "execution_count": 0,
      "outputs": [
        {
          "output_type": "stream",
          "text": [
            "a maior que b\n",
            "..|fim da aplicação\n"
          ],
          "name": "stdout"
        }
      ]
    },
    {
      "cell_type": "code",
      "metadata": {
        "id": "uvyhvrGlPIqW",
        "colab_type": "code",
        "outputId": "4764a48e-292f-4c2b-c17f-52056f2d5015",
        "colab": {
          "base_uri": "https://localhost:8080/",
          "height": 204
        }
      },
      "source": [
        "a = 10\n",
        "b = 20\n",
        "\n",
        "\n",
        "while a < b:\n",
        "  print(a)\n",
        "  a += 1\n",
        "  \n",
        "print('..|fim da aplicacao')"
      ],
      "execution_count": 0,
      "outputs": [
        {
          "output_type": "stream",
          "text": [
            "10\n",
            "11\n",
            "12\n",
            "13\n",
            "14\n",
            "15\n",
            "16\n",
            "17\n",
            "18\n",
            "19\n",
            "..|fim da aplicacao\n"
          ],
          "name": "stdout"
        }
      ]
    }
  ]
}