{
  "nbformat": 4,
  "nbformat_minor": 0,
  "metadata": {
    "colab": {
      "name": "Exercicios.ipynb",
      "version": "0.3.2",
      "provenance": [],
      "collapsed_sections": []
    },
    "kernelspec": {
      "name": "python3",
      "display_name": "Python 3"
    }
  },
  "cells": [
    {
      "cell_type": "code",
      "metadata": {
        "id": "NYuDI2AEPMEw",
        "colab_type": "code",
        "outputId": "5bd4a786-d830-4c88-ff7b-09ff10325e52",
        "colab": {
          "base_uri": "https://localhost:8080/",
          "height": 68
        }
      },
      "source": [
        "#TODO 01. faça a conversão do valor de entrada para o tipo de dado inteiro\n",
        "valor = int(input('informe o valor..: '))\n",
        "\n",
        "# TODO 02. Verifique se o valor é menor igual que 80\n",
        "if valor <= 80:\n",
        "    print('o valor informado eh menor ou igual que 80')\n",
        "else:\n",
        "    print('o valor informado eh maior que 80')\n",
        "    \n",
        "print('thats all folks..: ')\n",
        " \n",
        "  "
      ],
      "execution_count": 0,
      "outputs": [
        {
          "output_type": "stream",
          "text": [
            "informe o valor..: 80\n",
            "o valor informado eh menor ou igual que 80\n",
            "thats all folks..: \n"
          ],
          "name": "stdout"
        }
      ]
    },
    {
      "cell_type": "code",
      "metadata": {
        "id": "2ggInTyHVFk1",
        "colab_type": "code",
        "outputId": "2ffcd286-6132-49b7-cf90-1c7c5455aa59",
        "colab": {
          "base_uri": "https://localhost:8080/",
          "height": 255
        }
      },
      "source": [
        "#TODO 01.Faça a conversão do valor de entrada para o tipo inteiro\n",
        "val_inicio = int(input('informe valor de inicio.....: '))\n",
        "\n",
        "#TODO 02. Faça a conversão do valor de entrada para o tipo inteiro\n",
        "val_fim = int(input('informe o valor de termino..: '))\n",
        "\n",
        "operacao = input('informe operação a ser executada Adição ou Subtração..: ')\n",
        "\n",
        "#TODO 03. Faça a conversão do valor de entrada para o tipo inteiro\n",
        "passo = int(input('informe valor do passo'))\n",
        "\n",
        "while True:\n",
        "  if operacao == 'A':\n",
        "    val_inicio = val_inicio + passo\n",
        "    print(val_inicio)\n",
        "    \n",
        "  elif operacao == 'S':\n",
        "    val_inicio = val_inicio - passo\n",
        "    print(val_inicio)\n",
        "    \n",
        "  else:\n",
        "    print ('Operação informada não existe') \n",
        "    break\n",
        "  \n",
        "    \n",
        "  if val_inicio == val_fim:\n",
        "    print('fim do procedimento..:')\n",
        "    break\n",
        "  \n",
        "  \n",
        "print('Job concluido com sucesso!')\n",
        "  "
      ],
      "execution_count": 0,
      "outputs": [
        {
          "output_type": "stream",
          "text": [
            "informe valor de inicio.....: 10\n",
            "informe o valor de termino..: 90\n",
            "informe operação a ser executada Adição ou Subtração..: A\n",
            "informe valor do passo10\n",
            "20\n",
            "30\n",
            "40\n",
            "50\n",
            "60\n",
            "70\n",
            "80\n",
            "90\n",
            "fim do procedimento..:\n",
            "Job concluido com sucesso!\n"
          ],
          "name": "stdout"
        }
      ]
    }
  ]
}