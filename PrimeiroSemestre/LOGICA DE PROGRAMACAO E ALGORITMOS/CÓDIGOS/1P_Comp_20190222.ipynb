{
  "nbformat": 4,
  "nbformat_minor": 0,
  "metadata": {
    "colab": {
      "name": "1P_Comp_20190222.ipynb",
      "version": "0.3.2",
      "provenance": []
    },
    "kernelspec": {
      "name": "python3",
      "display_name": "Python 3"
    }
  },
  "cells": [
    {
      "cell_type": "code",
      "metadata": {
        "id": "wW_NNrEoq5KU",
        "colab_type": "code",
        "outputId": "4c0ac24a-d97f-416f-c48a-97ebc1a2f293",
        "colab": {
          "base_uri": "https://localhost:8080/",
          "height": 85
        }
      },
      "source": [
        "# print(\"Qual sua idade?\")\n",
        "idade = input(\"Qual sua idade?\")\n",
        "\n",
        "if int(idade) >= 18:\n",
        "  nome = input(\"Mamae poe seu nome aqui, por favor \")\n",
        "  if nome == 'Bruno':\n",
        "    print(\"Deu mal\")\n",
        "  else:\n",
        "    print(nome)\n",
        "else:\n",
        "  print(\"deixa quieto\")\n",
        "  \n",
        "print(\"..|fim\")"
      ],
      "execution_count": 0,
      "outputs": [
        {
          "output_type": "stream",
          "text": [
            "Qual sua idade?18\n",
            "Mamae poe seu nome aqui, por favor Bruno\n",
            "Deu mal\n",
            "..|fim\n"
          ],
          "name": "stdout"
        }
      ]
    }
  ]
}