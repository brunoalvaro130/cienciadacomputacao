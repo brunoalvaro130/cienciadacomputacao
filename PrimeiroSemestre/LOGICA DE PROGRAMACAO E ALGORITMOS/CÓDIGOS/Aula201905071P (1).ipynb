{
  "nbformat": 4,
  "nbformat_minor": 0,
  "metadata": {
    "colab": {
      "name": "Aula201905071P.ipynb",
      "version": "0.3.2",
      "provenance": []
    },
    "kernelspec": {
      "name": "python3",
      "display_name": "Python 3"
    }
  },
  "cells": [
    {
      "cell_type": "code",
      "metadata": {
        "id": "ntVuG7oFkM4m",
        "colab_type": "code",
        "outputId": "2765b6d6-d046-47af-e6f2-723c8f8d1e2e",
        "colab": {
          "base_uri": "https://localhost:8080/",
          "height": 51
        }
      },
      "source": [
        "#lst1 = [1,2,3,4,5,6]\n",
        "#lst2 = ['a', 1, 'Jose', 'Livro', 3.4]\n",
        "\n",
        "#lst1, lst2 = [1,2,3,4,5,6], ['a', 1, 'Jose', 'Livro', 3.4]\n",
        "\n",
        "\n",
        "lst = [580,1,2,0,3,4,5,6]\n",
        "print('valor maximo eh ', max(lst))\n",
        "print('valor minimo eh ', min(lst))"
      ],
      "execution_count": 0,
      "outputs": [
        {
          "output_type": "stream",
          "text": [
            "valor maximo eh  580\n",
            "valor minimo eh  0\n"
          ],
          "name": "stdout"
        }
      ]
    },
    {
      "cell_type": "code",
      "metadata": {
        "id": "Lesx9UWpnF7Z",
        "colab_type": "code",
        "outputId": "2813971f-f621-4737-f6ae-edcc83fdd89b",
        "colab": {
          "base_uri": "https://localhost:8080/",
          "height": 122
        }
      },
      "source": [
        "nome = \"Clarinelsdayis MAria da Silva Sauro\"\n",
        "lst = list(nome)\n",
        "print(nome)\n",
        "print(lst)\n",
        "aU = lst.count('A')\n",
        "au = lst.count('a')\n",
        "print(aU)\n",
        "print(au)\n",
        "\n",
        "print('Numero de ocorrencias da letra x eh ', lst.count('x'))"
      ],
      "execution_count": 0,
      "outputs": [
        {
          "output_type": "stream",
          "text": [
            "Clarinelsdayis MAria da Silva Sauro\n",
            "['C', 'l', 'a', 'r', 'i', 'n', 'e', 'l', 's', 'd', 'a', 'y', 'i', 's', ' ', 'M', 'A', 'r', 'i', 'a', ' ', 'd', 'a', ' ', 'S', 'i', 'l', 'v', 'a', ' ', 'S', 'a', 'u', 'r', 'o']\n",
            "1\n",
            "6\n",
            "Numero de ocorrencias da letra x eh  0\n"
          ],
          "name": "stdout"
        }
      ]
    },
    {
      "cell_type": "code",
      "metadata": {
        "id": "27h2HH5npsrB",
        "colab_type": "code",
        "outputId": "1a340d9c-fdc3-4f98-8575-87f47578308c",
        "colab": {
          "base_uri": "https://localhost:8080/",
          "height": 85
        }
      },
      "source": [
        "lst_nome = list('Maria')\n",
        "lst_val  = list(range(5))\n",
        "\n",
        "print(lst_nome)\n",
        "print(lst_val)\n",
        "\n",
        "lst_val.extend(lst_nome)\n",
        "print(lst_val)\n",
        "\n",
        "#lst_val.remove('M')\n",
        "#print(lst_val)\n",
        "\n",
        "print(lst_val.index('M'))"
      ],
      "execution_count": 0,
      "outputs": [
        {
          "output_type": "stream",
          "text": [
            "['M', 'a', 'r', 'i', 'a']\n",
            "[0, 1, 2, 3, 4]\n",
            "[0, 1, 2, 3, 4, 'M', 'a', 'r', 'i', 'a']\n",
            "5\n"
          ],
          "name": "stdout"
        }
      ]
    },
    {
      "cell_type": "code",
      "metadata": {
        "id": "WypJux4SrEcf",
        "colab_type": "code",
        "colab": {}
      },
      "source": [
        "lst = list('Maria Antonieta da Silva')\n",
        "print(lst)\n",
        "print(lst.sort('a'))"
      ],
      "execution_count": 0,
      "outputs": []
    }
  ]
}