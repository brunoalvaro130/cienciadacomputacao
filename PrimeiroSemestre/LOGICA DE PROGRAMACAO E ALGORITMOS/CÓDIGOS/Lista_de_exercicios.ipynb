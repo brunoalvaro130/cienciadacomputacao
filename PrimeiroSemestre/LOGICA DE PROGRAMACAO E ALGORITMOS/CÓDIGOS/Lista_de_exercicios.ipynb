{
  "nbformat": 4,
  "nbformat_minor": 0,
  "metadata": {
    "colab": {
      "name": "Lista de exercicios",
      "version": "0.3.2",
      "provenance": []
    },
    "kernelspec": {
      "name": "python3",
      "display_name": "Python 3"
    }
  },
  "cells": [
    {
      "cell_type": "code",
      "metadata": {
        "id": "S2ODEKkgWcAH",
        "colab_type": "code",
        "colab": {}
      },
      "source": [
        "#Cenário 01\n",
        "idade = int(input('Qual a sua idade? '))\n",
        "\n",
        "if idade >= 18:\n",
        "  print('Você é maior de idade')\n",
        "  \n",
        "print('thats all folks..')"
      ],
      "execution_count": 0,
      "outputs": []
    },
    {
      "cell_type": "code",
      "metadata": {
        "id": "W0v3k6vSaa7o",
        "colab_type": "code",
        "colab": {}
      },
      "source": [
        "#Cenário 02\n",
        "idade = int(input('Qual a sua idade?'))\n",
        "\n",
        "if idade >= 18:\n",
        "  print('Você é maior de idade')\n",
        "\n",
        "  \n",
        "else:\n",
        "  print('Você tem menos de 18 anos')\n",
        "  \n",
        "print('thats all folks..')"
      ],
      "execution_count": 0,
      "outputs": []
    },
    {
      "cell_type": "code",
      "metadata": {
        "id": "NF-KqXfwa1C_",
        "colab_type": "code",
        "colab": {}
      },
      "source": [
        "#Cenário 03\n",
        "Cidade = str(input('Você mora em Guaxupé?'))\n",
        "\n",
        "if Cidade == 'sim':\n",
        "  idade = int(input('Qual a sua idade?'))\n",
        "  if idade >= 18:\n",
        "    print('Feliz morador da cidade de Guaxupé com mais de 18 anos')\n",
        "\n",
        "    \n",
        "elif Cidade == 'não':\n",
        "  print('Que pena, Guaxupé é uma cidade linda')\n",
        "  \n",
        "\n",
        "print('thats all folks..')"
      ],
      "execution_count": 0,
      "outputs": []
    },
    {
      "cell_type": "code",
      "metadata": {
        "id": "L0c1_030fNOe",
        "colab_type": "code",
        "colab": {}
      },
      "source": [
        "#Cenário 04\n",
        "Cidade = str(input('Você mora em Guaxupé?'))\n",
        "\n",
        "if Cidade == 'sim':\n",
        "  idade = int(input('Qual a sua idade?'))\n",
        "  if idade >= 18:\n",
        "    print('Feliz morador da cidade de Guaxupé com mais de 18 anos')\n",
        "  else:\n",
        "    print('Mais um infante morador de Guaxupé')\n",
        "\n",
        "    \n",
        "elif Cidade == 'não':\n",
        "  Cidade2 = str(input('Você tem interesse em se mudar para Guaxupé?'))\n",
        "  if Cidade2 == 'sim':\n",
        "    print('Que bom, será muito bem vindo a Guaxupé')\n",
        "  elif Cidade2 == 'não':\n",
        "    print('Ok, também fico feliz em saber que és feliz onde mora')\n",
        "  \n",
        "\n",
        "print('thats all folks..')"
      ],
      "execution_count": 0,
      "outputs": []
    },
    {
      "cell_type": "code",
      "metadata": {
        "id": "HCWRAJJzgx83",
        "colab_type": "code",
        "outputId": "14385c77-6bf8-4a8a-e4a6-edfa6595200f",
        "colab": {
          "base_uri": "https://localhost:8080/",
          "height": 119
        }
      },
      "source": [
        "#Cenário 05\n",
        "total = 0\n",
        "\n",
        "while True:\n",
        "  valor = int(input('informe valor a ser somado..: '))\n",
        "  if valor == 0:\n",
        "    print('total da soma{}'.format(total))\n",
        "    break\n",
        "  elif valor > 0 and valor < 10:\n",
        "    total += valor\n",
        "  else:\n",
        "    print('valor informado esta incorreto, favor informar um valor valido')\n",
        "    \n",
        "\n",
        "print('thats all folks..: ')\n",
        "  "
      ],
      "execution_count": 0,
      "outputs": [
        {
          "output_type": "stream",
          "text": [
            "informe valor a ser somado..: 5\n",
            "informe valor a ser somado..: 3\n",
            "informe valor a ser somado..: 6\n",
            "informe valor a ser somado..: 0\n",
            "total da soma14\n",
            "thats all folks..: \n"
          ],
          "name": "stdout"
        }
      ]
    },
    {
      "cell_type": "code",
      "metadata": {
        "id": "7dT1ADHEeI4o",
        "colab_type": "code",
        "colab": {}
      },
      "source": [
        "#Cenário 06\n",
        "total = 0\n",
        "lista = []\n",
        "\n",
        "while True:\n",
        "  valor = int(input('informe valor a ser somado...: '))\n",
        "  if valor == 0:\n",
        "    print('total da soma{}, nro de elementos{}, e lista de elementos'.format(total,len(lista),lista))\n",
        "    break\n",
        "  \n",
        "  elif valor > 0 and valor < 10:\n",
        "    total += valor # total = total + valor\n",
        "    lista.append(valor)\n",
        "  else:\n",
        "    print ('valor informado esta incorreto, favor informar um valor valido')"
      ],
      "execution_count": 0,
      "outputs": []
    }
  ]
}