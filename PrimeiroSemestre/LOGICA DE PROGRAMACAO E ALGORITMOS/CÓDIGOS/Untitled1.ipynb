{
  "nbformat": 4,
  "nbformat_minor": 0,
  "metadata": {
    "colab": {
      "name": "Untitled1.ipynb",
      "version": "0.3.2",
      "provenance": []
    },
    "kernelspec": {
      "name": "python3",
      "display_name": "Python 3"
    }
  },
  "cells": [
    {
      "cell_type": "code",
      "metadata": {
        "id": "UKhkm8csdBoh",
        "colab_type": "code",
        "colab": {}
      },
      "source": [
        "print('Hello world') # print => display"
      ],
      "execution_count": 0,
      "outputs": []
    },
    {
      "cell_type": "code",
      "metadata": {
        "id": "VVBihCWwfeS6",
        "colab_type": "code",
        "colab": {}
      },
      "source": [
        "#print('informe seu nome')\n",
        "nome = input('informe seu nome: ')\n",
        "print('ola',nome)\n",
        "\n",
        "print('thats all folks..:')\n"
      ],
      "execution_count": 0,
      "outputs": []
    },
    {
      "cell_type": "code",
      "metadata": {
        "id": "a2mX69sQhHSD",
        "colab_type": "code",
        "colab": {}
      },
      "source": [
        "idade=int(input('qual sua idade?'))\n",
        "if idade > 18:\n",
        "  print('você é maior que 18')\n",
        "else:\n",
        "  print('Você é menor ou igual 18')\n",
        "  \n",
        "print('thats all folks..:')"
      ],
      "execution_count": 0,
      "outputs": []
    },
    {
      "cell_type": "code",
      "metadata": {
        "id": "zqguNrJ_inVo",
        "colab_type": "code",
        "colab": {}
      },
      "source": [
        "idade = input('qual a sua idade')\n",
        "idade = int(idade)\n",
        "\n",
        "if idade > 18:\n",
        "  print('a idade informada eh maior que 18')\n",
        "  print('esta linha eh blablablabla')\n",
        "else:\n",
        "  print('idade informada eh menor ou igual a 18')\n",
        "  \n",
        "print('mensagem de fim da app')"
      ],
      "execution_count": 0,
      "outputs": []
    },
    {
      "cell_type": "code",
      "metadata": {
        "id": "qQwZbyYTUdF_",
        "colab_type": "code",
        "colab": {}
      },
      "source": [
        "def falar_ola(nome):\n",
        "    print('Entrando na função falar_ola')\n",
        "    print('ola ', nome)\n",
        "    print('saindo da função falar_ola')\n",
        "    \n",
        "falar_ola('Tereza')\n",
        "    \n",
        "    \n",
        "    "
      ],
      "execution_count": 0,
      "outputs": []
    },
    {
      "cell_type": "code",
      "metadata": {
        "id": "As8pvvXaWH0I",
        "colab_type": "code",
        "colab": {}
      },
      "source": [
        "idade = 18\n",
        "if idade < 20:\n",
        "  print('idade menor que 20')\n",
        "  print('blabla')\n",
        "  nome = input('qual o seu nome')\n",
        "  if nome.upper()== 'MARIA' or nome.upper() == 'JOSE':\n",
        "      falar_ola(nome)\n",
        "  else:\n",
        "    print('voce nao eh a maria')\n",
        "    \n",
        "else:\n",
        "  print('entao voce eh maior que 20')\n",
        "  \n",
        "#print('oi tudo bem')"
      ],
      "execution_count": 0,
      "outputs": []
    },
    {
      "cell_type": "code",
      "metadata": {
        "id": "nuIRKk2WaTYR",
        "colab_type": "code",
        "outputId": "505ee0bf-bccb-4964-b092-7817261bc18c",
        "colab": {
          "base_uri": "https://localhost:8080/",
          "height": 51
        }
      },
      "source": [
        "nome = 'maria'\n",
        "print(nome)\n",
        "print(nome.upper())"
      ],
      "execution_count": 0,
      "outputs": [
        {
          "output_type": "stream",
          "text": [
            "maria\n",
            "MARIA\n"
          ],
          "name": "stdout"
        }
      ]
    },
    {
      "cell_type": "code",
      "metadata": {
        "id": "BYhlLt2ebwuz",
        "colab_type": "code",
        "outputId": "dfefa899-35be-4c91-a86d-bf70a5199780",
        "colab": {
          "base_uri": "https://localhost:8080/",
          "height": 34
        }
      },
      "source": [
        "def soma(a, b):\n",
        "    return a + b\n",
        "  \n",
        "if soma(10,30) == 40:\n",
        "  print('soma foi de 40')\n",
        "else:\n",
        "  print('soma diferente de 40')"
      ],
      "execution_count": 0,
      "outputs": [
        {
          "output_type": "stream",
          "text": [
            "soma foi de 40\n"
          ],
          "name": "stdout"
        }
      ]
    },
    {
      "cell_type": "code",
      "metadata": {
        "id": "annAscUzcqPx",
        "colab_type": "code",
        "outputId": "79e2a995-34d6-43c3-d87a-7e098cb968c7",
        "colab": {
          "base_uri": "https://localhost:8080/",
          "height": 255
        }
      },
      "source": [
        "nome = 'Maria Joaquina'\n",
        "\n",
        "for i in nome:\n",
        "  print(i)"
      ],
      "execution_count": 0,
      "outputs": [
        {
          "output_type": "stream",
          "text": [
            "M\n",
            "a\n",
            "r\n",
            "i\n",
            "a\n",
            " \n",
            "J\n",
            "o\n",
            "a\n",
            "q\n",
            "u\n",
            "i\n",
            "n\n",
            "a\n"
          ],
          "name": "stdout"
        }
      ]
    }
  ]
}